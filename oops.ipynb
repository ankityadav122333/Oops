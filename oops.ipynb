{
 "cells": [
  {
   "cell_type": "markdown",
   "id": "49149872-b727-4c55-a154-3f5649f8f692",
   "metadata": {},
   "source": [
    "### What is Object-Oriented Programming (OOP)?\n"
   ]
  },
  {
   "cell_type": "markdown",
   "id": "4e2bcdeb-fd0b-4e62-a2b6-19ff0358cb17",
   "metadata": {},
   "source": [
    "- Object-Oriented Programming (OOP) is a programming paradigm based on the concept of “objects”, which can contain:\n",
    "\n",
    "Data (in the form of fields, often called attributes or properties)\n",
    "\n",
    "Code (in the form of procedures, often called methods)"
   ]
  },
  {
   "cell_type": "markdown",
   "id": "55a3fdc2-0248-45d8-ad5e-89cea9daf886",
   "metadata": {},
   "source": [
    "###  What is a class in OOP?"
   ]
  },
  {
   "cell_type": "markdown",
   "id": "d6e3cb75-a80a-4e9e-b6a5-86ddcdaa7742",
   "metadata": {},
   "source": [
    "- A class is a blueprint or template used to create objects in OOP.\n",
    "\n",
    "It defines:\n",
    "\n",
    "-The attributes (data/properties) an object can have\n",
    "\n",
    "- The methods (functions/behaviors) an object can perform\n",
    "\n",
    "- A class is not an object by itself, but a structure to create objects.\n",
    "\n",
    "- Objects created from a class are called instances.\n",
    "\n",
    "- Classes help organize code and support modularity and reuse."
   ]
  },
  {
   "cell_type": "markdown",
   "id": "1020db53-dde9-4d1d-b310-293eee7f535f",
   "metadata": {},
   "source": [
    "### What is an object in OOP ?"
   ]
  },
  {
   "cell_type": "markdown",
   "id": "c8fb5046-1095-450a-af6e-e330ef1ef336",
   "metadata": {},
   "source": [
    "- An object is a real-world instance of a class.\n",
    "It contains:\n",
    "\n",
    "Data (attributes/properties)\n",
    "\n",
    "Behaviors (methods/functions)\n",
    "\n",
    "Created from a class\n",
    "\n",
    "Each object has its own copy of attributes\n",
    "\n",
    "Can call methods defined in the class"
   ]
  },
  {
   "cell_type": "markdown",
   "id": "508b5dfd-edda-4b0d-af9a-2d947295f487",
   "metadata": {},
   "source": [
    "### What is the difference between abstraction and encapsulation?"
   ]
  },
  {
   "cell_type": "markdown",
   "id": "6bdbe68f-45b0-420e-bcc1-9ed62079fd6f",
   "metadata": {},
   "source": [
    "- Both abstraction and encapsulation are key concepts in Object-Oriented Programming (OOP), but they serve different purposes.\n",
    "-  Encapsulation\n",
    "- Hide internal state (protect data)\n",
    "- How the object does it\n",
    "- Private variables, access methods\n",
    "- Data is restricted using access levels\n",
    "- Abstraction\n",
    "- Hide complexity\t\n",
    "- What the object does\t\n",
    "- Abstract classes, interfaces\t\n",
    "- Only relevant details are exposed\t\n",
    "- Abstraction simplifies code for the user.\n",
    "- Encapsulation secures the code and protects data.\n"
   ]
  },
  {
   "cell_type": "markdown",
   "id": "d3622c9d-cbeb-407e-8334-0dd769e879bd",
   "metadata": {},
   "source": [
    "### What are dunder methods in Python ?"
   ]
  },
  {
   "cell_type": "markdown",
   "id": "963ab5bc-c6ad-4864-be47-dc6486c72672",
   "metadata": {},
   "source": [
    "- Dunder methods (short for “double underscore” methods) are special methods in Python that have names surrounded by double underscores,\n",
    "- They are also known as magic methods because they allow custom behavior for built-in operations like printing, adding, comparing, etc.\n"
   ]
  },
  {
   "cell_type": "markdown",
   "id": "21922189-bc94-4b45-95cc-72653cc1065e",
   "metadata": {},
   "source": [
    "### Explain the concept of inheritance in OOPH ?"
   ]
  },
  {
   "cell_type": "markdown",
   "id": "617afdb5-acaa-4b74-b74a-19bbf5dadcf8",
   "metadata": {},
   "source": [
    "- Inheritance in Object-Oriented Programming (OOP) is a mechanism that allows one class to acquire the properties \n",
    "and behaviors (methods and attributes) of another class. This promotes code reuse and establishes a hierarchical relationship between classes.\n",
    "- Parent Class (Super Class / Base Class): The class whose features are inherited.\n",
    "- Child Class (Sub Class / Derived Class): The class that inherits from the parent class.\n",
    "    "
   ]
  },
  {
   "cell_type": "markdown",
   "id": "f6faf8cf-e0c1-4d88-9c37-a45024fdc530",
   "metadata": {},
   "source": [
    "### What is polymorphism in OOP ?"
   ]
  },
  {
   "cell_type": "markdown",
   "id": "c60462e6-d808-4369-8d34-a27f2469b815",
   "metadata": {},
   "source": [
    "- Polymorphism in Object-Oriented Programming (OOP) means \"many forms\". It allows objects of different classes to be treated as objects of a common parent class, particularly when they share a method name but behave differently depending on their class.\n",
    "- Same method name, but different implementations depending on the class."
   ]
  },
  {
   "cell_type": "markdown",
   "id": "610a56a6-61be-44ec-9ae3-551b687591ce",
   "metadata": {},
   "source": [
    "### How is encapsulation achieved in Python ?"
   ]
  },
  {
   "cell_type": "markdown",
   "id": "78218429-bcae-4b57-b4fd-96c2f82c64aa",
   "metadata": {},
   "source": [
    "- Encapsulation is an OOP principle that means wrapping data (attributes) and methods (functions) into a single unit (a class) and restricting direct access to some of the object's components.\n",
    "It helps to protect the internal state of an object and control how it's accessed or modified.\n",
    "- Python uses naming conventions (not strict access modifiers like private, public, protected in other languages) to achieve encapsulation:"
   ]
  },
  {
   "cell_type": "markdown",
   "id": "ab301af9-2054-4ff3-83a5-8c4fdb761019",
   "metadata": {},
   "source": [
    "### What is a constructor in Python ?"
   ]
  },
  {
   "cell_type": "markdown",
   "id": "f1a654b3-291a-4126-a095-b92e819390ab",
   "metadata": {},
   "source": [
    "- A constructor in Python is a special method used to initialize the state of an object when it is created.\n",
    "In Python, the constructor method is always named __init__().\n",
    "- self refers to the current instance of the class.\n",
    "- The constructor can take arguments to initialize attributes.\n",
    "- You can define default values too."
   ]
  },
  {
   "cell_type": "markdown",
   "id": "042423a8-201f-4916-98e5-7b423179d166",
   "metadata": {},
   "source": [
    "### What are class and static methods in Python ?"
   ]
  },
  {
   "cell_type": "markdown",
   "id": "2a3ba174-9e0c-4b64-8caa-5b7fd9ff8209",
   "metadata": {},
   "source": [
    "- In Python, class methods and static methods are special methods that are not quite the same as regular instance methods. Here's what they are and how they differ:\n",
    "##### Class Method\n",
    "- A class method is bound to the class and not the object. It takes cls as the first parameter, which refers to the class itself (not the instance).\n",
    "- When you need to access or modify class-level data.\n",
    "- For creating alternative constructors.\n",
    "##### Static Method \n",
    "- A static method doesn’t take self or cls as the first argument.\n",
    "It behaves like a regular function but is defined inside a class for logical grouping.\n",
    "- When the method does not depend on the instance (self) or the class (cls).\n",
    "- Utility functions related to the class."
   ]
  },
  {
   "cell_type": "markdown",
   "id": "43095995-6ef4-4c5f-937d-a55d8ea0390d",
   "metadata": {},
   "source": [
    "### What is method overloading in Python ?"
   ]
  },
  {
   "cell_type": "markdown",
   "id": "6bd8e7ab-ff8e-456c-9e7d-7698b63d828a",
   "metadata": {},
   "source": [
    "- Method Overloading means having multiple methods with the same name but different arguments (number or type).\n",
    "It allows you to perform different operations depending on how many or what kind of arguments are passed."
   ]
  },
  {
   "cell_type": "markdown",
   "id": "eba8c210-f2f8-4ea0-8c7f-0d4cf06f00aa",
   "metadata": {},
   "source": [
    "### What is method overriding in OOP ?"
   ]
  },
  {
   "cell_type": "markdown",
   "id": "82de801c-a66e-4872-8a1d-f4488f18e32a",
   "metadata": {},
   "source": [
    "- Method Overriding is an Object-Oriented Programming concept where a child (subclass) provides its own implementation of a method that is already defined in its parent (superclass)\n",
    "- The method name, number of arguments, and signature must be the same as in the parent class.\n",
    "- The child class replaces or customizes the parent class’s behavior.\n",
    "- It supports runtime polymorphism."
   ]
  },
  {
   "cell_type": "markdown",
   "id": "781a099a-0fcc-4983-b215-7fe6e05b8aad",
   "metadata": {},
   "source": [
    "### What is a property decorator in Python?"
   ]
  },
  {
   "cell_type": "markdown",
   "id": "be513de8-3126-4160-8dfc-41406dcef246",
   "metadata": {},
   "source": [
    "- The @property decorator in Python is used to turn a method into a read-only attribute. It allows you to access methods like attributes without using parentheses ().\n",
    "- It’s part of Python’s support for encapsulation — helping you hide internal data and control how it's accessed or modified.\n"
   ]
  },
  {
   "cell_type": "markdown",
   "id": "ed744a19-bf14-464a-9e6a-ca966ccbd558",
   "metadata": {},
   "source": [
    "### Why is polymorphism important in OOP ?"
   ]
  },
  {
   "cell_type": "markdown",
   "id": "c8261c6e-2ff7-40f4-a16d-2db8f4207224",
   "metadata": {},
   "source": [
    "- Polymorphism is a core concept of OOP that allows one interface to be used for different data types or classes. It improves flexibility, scalability, and code maintainability.\n",
    "###### Flexibility and Extensibility\n",
    "- You can easily add new classes without changing existing code — perfect for growing systems.\n",
    "###### Code Reusability\n",
    "-  You can write generic code that works for different object types.\n",
    "###### Simplifies Code\n",
    "- Imagine a remote control with a start() button.\n",
    "If it's connected to a TV, it starts the TV.\n",
    "If connected to an AC, it starts the AC."
   ]
  },
  {
   "cell_type": "markdown",
   "id": "0dc66a37-31ac-4084-88be-0e1d13394543",
   "metadata": {},
   "source": [
    "### What is an abstract class in Python ?"
   ]
  },
  {
   "cell_type": "markdown",
   "id": "c9aec656-5b4d-484d-8be4-cf9501c484f5",
   "metadata": {},
   "source": [
    "- An abstract class in Python is a class that cannot be instantiated directly. It is used to define a common interface or blueprint for other (sub)classes.\n",
    "###### Abstract classes may contain:\n",
    "- Abstract methods: Methods that have no implementation (must be implemented in child classes).\n",
    "- Concrete methods: Methods with implementation.\n",
    "\n"
   ]
  },
  {
   "cell_type": "markdown",
   "id": "c865169d-6196-420a-8c06-a63922fcf384",
   "metadata": {},
   "source": [
    "## What are the advantages of OOP ?"
   ]
  },
  {
   "cell_type": "markdown",
   "id": "2b032701-b0c3-466f-a0b9-8b100f5644ba",
   "metadata": {},
   "source": [
    "- Object-Oriented Programming offers a structured and powerful way to design software by organizing code into objects (real-world entities). It makes programs more modular, reusable, and easier to maintain.\n",
    "###### Modularity\n",
    "- Code is divided into classes and objects, which act as independent modules.\n",
    "- Makes it easier to organize, debug, and scale the codebase.\n",
    "###### Reusability through Inheritance\n",
    "- You can reuse existing code by creating new classes from existing ones.\n",
    "- Reduces redundancy and promotes code reus\n",
    "###### Encapsulation\n",
    "- Hides internal data and protects object integrity by restricting access to some components.\n",
    "- Allows access through public methods (getters/setters) only.\n",
    "###### Polymorphism\n",
    "- Allows the same method name to behave differently based on the object or context.\n",
    "- Supports flexibility and code generalization.\n",
    "###### Abstraction\n",
    "- Hides complex implementation details and shows only essential features.\n",
    "- Makes code simpler for users and other developers.\n"
   ]
  },
  {
   "cell_type": "markdown",
   "id": "b1e8a141-4ece-4023-9064-3f846efe21f0",
   "metadata": {},
   "source": [
    "### What is the difference between a class variable and an instance variable ?"
   ]
  },
  {
   "cell_type": "markdown",
   "id": "cc180dbd-79af-47e8-a870-8ce362054488",
   "metadata": {},
   "source": [
    "- Both class variables and instance variables are used to store data in a class, but they have different scopes and behavior.\n",
    "###### Instance Variable\n",
    "- Belongs to the object (instance of the class).\n",
    "- Each object has its own copy.\n",
    "###### Class Variable\n",
    "- Shared by all instances of the class.\n",
    "- Defined directly inside the class, outside any method.\n",
    "- Changing it affects all objects (unless shadowed by an instance variable)."
   ]
  },
  {
   "cell_type": "markdown",
   "id": "aae96c83-2318-45b1-bf65-23bb99a213e2",
   "metadata": {},
   "source": [
    "### What is multiple inheritance in Python ?"
   ]
  },
  {
   "cell_type": "markdown",
   "id": "44257e00-4bf8-4dd9-8df5-6b725c8fbb7e",
   "metadata": {},
   "source": [
    "- Multiple Inheritance is a feature in Python where a child class inherits from more than one parent class.\n",
    "This means the subclass gets the attributes and methods of all its parent classes.\n",
    "###### Example:\n",
    "- class Father:\n",
    "    def skills(self):\n",
    "        print(\"Gardening, Cooking\")\n",
    "\n",
    "- class Mother:\n",
    "    def skills(self):\n",
    "        print(\"Painting, Dancing\")\n",
    "\n",
    "- class Child(Father, Mother):\n",
    "    pass\n",
    "\n",
    "c = Child()\n",
    "c.skills()\n"
   ]
  },
  {
   "cell_type": "markdown",
   "id": "d2102a98-b6ed-49f7-b6b8-b8b2a44a2fa5",
   "metadata": {},
   "source": [
    "### Explain the purpose of ‘’__str__’ and ‘__repr__’ ‘ methods in Python ?"
   ]
  },
  {
   "cell_type": "markdown",
   "id": "55918008-68a7-45a1-a09a-c80b20066eab",
   "metadata": {},
   "source": [
    "###### 1. __str__() – User-friendly string representation\n",
    "- Called by the built-in str() function and by print().\n",
    "- Should return a readable and nicely formatted string for end users.\n",
    "###### 2. __repr__() – Developer-friendly string representation\n",
    "- Called by the built-in repr() function or in the interactive console.\n",
    "- Should return a string that is unambiguous and ideally could be used to recreate the object.\n",
    "- Goal: Help debuggers and developers."
   ]
  },
  {
   "cell_type": "markdown",
   "id": "9c9bc930-f0f0-43f2-bb86-f0da5c6a6e9d",
   "metadata": {},
   "source": [
    "### What is the significance of the ‘super()’ function in Python ?"
   ]
  },
  {
   "cell_type": "markdown",
   "id": "25b1a050-cbee-4cb0-8ab4-9062a63b1e7f",
   "metadata": {},
   "source": [
    "- The super() function in Python is used to call methods from a parent (or superclass) in a child (subclass).\n",
    "It plays a key role in inheritance, especially in multiple inheritance and when you want to extend rather than replace parent behavior.\n",
    "- Call the parent class’s __init__() constructor\n",
    "- Reuse parent methods inside overridden methods\n",
    "- Support cooperative multiple inheritance"
   ]
  },
  {
   "cell_type": "markdown",
   "id": "d91a141a-3175-4550-ad6f-93ebb8f3aa24",
   "metadata": {},
   "source": [
    " ### What is the significance of the __del__ method in Python ?"
   ]
  },
  {
   "cell_type": "markdown",
   "id": "6dcf6641-c71f-4851-846c-674f01e6a759",
   "metadata": {},
   "source": [
    "- The __del__() method in Python is a destructor — it is called automatically when an object is about to be destroyed, usually when it is garbage collected.\n",
    "###### Purpose of __del__():\n",
    "- To clean up resources (like closing files, releasing network connections, etc.)\n",
    "- Acts like a finalizer before the object is deleted from memory.\n"
   ]
  },
  {
   "cell_type": "markdown",
   "id": "21b54b61-ff66-4067-aebf-09543616ec9e",
   "metadata": {},
   "source": [
    "### What is the difference between @staticmethod and @classmethod in Python ?"
   ]
  },
  {
   "cell_type": "markdown",
   "id": "728f7ba2-e913-41bc-a570-8e9c81d777ae",
   "metadata": {},
   "source": [
    "- Both @staticmethod and @classmethod are decorators used to define special methods in Python classes, but they serve different purposes and have different access levels.\n",
    "###### @staticmethod\n",
    "- A @staticmethod is a method that doesn’t take self or cls as the first argument.\n",
    "- It behaves like a regular function, but it's placed inside a class for logical grouping.\n",
    "###### Use When:\n",
    "- You don’t need to access or modify instance or class-level data.\n",
    "- You’re creating a utility/helper function.\n",
    " \n",
    "###### @classmethod\n",
    "- A @classmethod takes cls as the first parameter (not self) and can access or modify class-level data.\n",
    "- It is bound to the class, not the instance.\n",
    "###### Use When:\n",
    "- You need to work with class variables.\n",
    "- You want to define an alternative constructor."
   ]
  },
  {
   "cell_type": "markdown",
   "id": "d393edba-9067-4c12-a5db-5ecf33c1e6a8",
   "metadata": {},
   "source": [
    "### How does polymorphism work in Python with inheritance?"
   ]
  },
  {
   "cell_type": "markdown",
   "id": "f8a043f1-b9a4-454d-8f8f-3434c1845fa6",
   "metadata": {},
   "source": [
    "- In Python, polymorphism with inheritance allows objects of different subclasses to be treated as objects of the same superclass, yet behave differently depending on their actual class.\n",
    "- Polymorphism + Inheritance = Same interface, different behaviors\n",
    "\n",
    "When a subclass overrides a method from its parent class, you can use a common interface (e.g., speak() method from Animal) to interact with any subclass object (e.g., Dog, Cat), and Python will call the correct method based on the actual object type."
   ]
  },
  {
   "cell_type": "markdown",
   "id": "cf1cde73-b7ac-4643-a18e-a6b32f7532d5",
   "metadata": {},
   "source": [
    "### What is method chaining in Python OOP ?"
   ]
  },
  {
   "cell_type": "markdown",
   "id": "ed087200-f669-4b2a-a482-f387aa1b252d",
   "metadata": {},
   "source": [
    "- Method chaining is a technique in Python where multiple methods are called on the same object in a single line, one after another.\n",
    "Each method returns the object itself (self), allowing the next method to be called immediately.\n",
    "###### Purpose of Method Chaining:\n",
    "- Makes the code more readable and compact.\n",
    "- Often used in builder patterns, data pipelines, and fluent interfaces."
   ]
  },
  {
   "cell_type": "markdown",
   "id": "551c6b2d-5ee4-42f8-905b-7f6f93326c2d",
   "metadata": {},
   "source": [
    "###  What is the purpose of the __call__ method in Python ?"
   ]
  },
  {
   "cell_type": "markdown",
   "id": "0ead59e7-72f7-4373-9a98-224cf0576c9c",
   "metadata": {},
   "source": [
    "- The __call__() method in Python allows an object to be called like a function.\n",
    "If a class defines a __call__() method, its instances behave like functions.\n",
    "###### Why Use __call__()\n",
    "- To make objects callable (like functions).\n",
    "- To add function-like behavior to objects.\n",
    "- To store state + behavior in a clean and reusable way (e.g., in decorators, machine learning models, custom callbacks, etc.)."
   ]
  },
  {
   "cell_type": "markdown",
   "id": "c29913e5-a04e-4ca1-a178-698cd83bf2f2",
   "metadata": {},
   "source": [
    "### 1. Create a parent class Animal with a method speak() that prints a generic message. Create a child class Dog that overrides the speak() method to print \"Bark!\"."
   ]
  },
  {
   "cell_type": "code",
   "execution_count": 2,
   "id": "c0dd53d1-aa69-4b4c-a87b-c2ebe7ea2137",
   "metadata": {},
   "outputs": [
    {
     "name": "stdout",
     "output_type": "stream",
     "text": [
      "Animal makes a sound\n",
      "Bark!\n"
     ]
    }
   ],
   "source": [
    "# Parent class\n",
    "class Animal:\n",
    "    def speak(self):\n",
    "        print(\"Animal makes a sound\")\n",
    "\n",
    "# Child class\n",
    "class Dog(Animal):\n",
    "    def speak(self):  # Overriding the parent class method\n",
    "        print(\"Bark!\")\n",
    "\n",
    "# Test the classes\n",
    "a = Animal()\n",
    "a.speak()  # Output: Animal makes a sound\n",
    "\n",
    "d = Dog()\n",
    "d.speak() "
   ]
  },
  {
   "cell_type": "markdown",
   "id": "67b48745-3183-4d47-bd6b-20956a13780c",
   "metadata": {},
   "source": [
    "### 2. Write a program to create an abstract class Shape with a method area(). Derive classes Circle and Rectangle from it and implement the area() method in both."
   ]
  },
  {
   "cell_type": "code",
   "execution_count": 3,
   "id": "ea4271f3-5729-4244-b4c8-33225e9fe621",
   "metadata": {},
   "outputs": [
    {
     "name": "stdout",
     "output_type": "stream",
     "text": [
      "Area of Circle: 78.53981633974483\n",
      "Area of Rectangle: 24\n"
     ]
    }
   ],
   "source": [
    "from abc import ABC, abstractmethod\n",
    "import math\n",
    "\n",
    "# Abstract base class\n",
    "class Shape(ABC):\n",
    "    @abstractmethod\n",
    "    def area(self):\n",
    "        pass\n",
    "\n",
    "# Derived class: Circle\n",
    "class Circle(Shape):\n",
    "    def __init__(self, radius):\n",
    "        self.radius = radius\n",
    "\n",
    "    def area(self):\n",
    "        return math.pi * self.radius ** 2\n",
    "\n",
    "# Derived class: Rectangle\n",
    "class Rectangle(Shape):\n",
    "    def __init__(self, width, height):\n",
    "        self.width = width\n",
    "        self.height = height\n",
    "\n",
    "    def area(self):\n",
    "        return self.width * self.height\n",
    "\n",
    "# Testing the classes\n",
    "c = Circle(5)\n",
    "r = Rectangle(4, 6)\n",
    "\n",
    "print(\"Area of Circle:\", c.area())    \n",
    "print(\"Area of Rectangle:\", r.area())    "
   ]
  },
  {
   "cell_type": "markdown",
   "id": "245475a5-18c4-41f4-877c-331398920f38",
   "metadata": {},
   "source": [
    "### 3. Implement a multi-level inheritance scenario where a class Vehicle has an attribute type. Derive a class Car and further derive a class ElectricCar that adds a battery attribute."
   ]
  },
  {
   "cell_type": "code",
   "execution_count": 4,
   "id": "5e98ec9d-4d28-4ae8-9a7f-64d8fdfa06f8",
   "metadata": {},
   "outputs": [
    {
     "name": "stdout",
     "output_type": "stream",
     "text": [
      "Vehicle Type: Four Wheeler\n",
      "Car Brand: Tesla\n",
      "Battery Capacity: 75 kWh\n"
     ]
    }
   ],
   "source": [
    "# Base class\n",
    "class Vehicle:\n",
    "    def __init__(self, vehicle_type):\n",
    "        self.vehicle_type = vehicle_type\n",
    "\n",
    "    def display_type(self):\n",
    "        print(f\"Vehicle Type: {self.vehicle_type}\")\n",
    "\n",
    "# Derived class from Vehicle\n",
    "class Car(Vehicle):\n",
    "    def __init__(self, vehicle_type, brand):\n",
    "        super().__init__(vehicle_type)\n",
    "        self.brand = brand\n",
    "\n",
    "    def display_brand(self):\n",
    "        print(f\"Car Brand: {self.brand}\")\n",
    "\n",
    "# Derived class from Car\n",
    "class ElectricCar(Car):\n",
    "    def __init__(self, vehicle_type, brand, battery_capacity):\n",
    "        super().__init__(vehicle_type, brand)\n",
    "        self.battery_capacity = battery_capacity\n",
    "\n",
    "    def display_battery(self):\n",
    "        print(f\"Battery Capacity: {self.battery_capacity} kWh\")\n",
    "\n",
    "# Testing the classes\n",
    "e_car = ElectricCar(\"Four Wheeler\", \"Tesla\", 75)\n",
    "\n",
    "e_car.display_type()      \n",
    "e_car.display_brand()     \n",
    "e_car.display_battery()   "
   ]
  },
  {
   "cell_type": "markdown",
   "id": "e78099a9-d41e-4e97-8b4d-458acf9703f1",
   "metadata": {},
   "source": [
    "### 4. Demonstrate polymorphism by creating a base class Bird with a method fly(). Create two derived classes Sparrow and Penguin that override the fly() method.\n"
   ]
  },
  {
   "cell_type": "code",
   "execution_count": 5,
   "id": "078c89b4-44e7-46ff-a688-74724ada1aad",
   "metadata": {},
   "outputs": [
    {
     "name": "stdout",
     "output_type": "stream",
     "text": [
      "Sparrow flies high in the sky.\n",
      "Penguins can't fly, they swim instead.\n"
     ]
    }
   ],
   "source": [
    "# Base class\n",
    "class Bird:\n",
    "    def fly(self):\n",
    "        print(\"Some bird is flying...\")\n",
    "\n",
    "# Derived class 1\n",
    "class Sparrow(Bird):\n",
    "    def fly(self):\n",
    "        print(\"Sparrow flies high in the sky.\")\n",
    "\n",
    "# Derived class 2\n",
    "class Penguin(Bird):\n",
    "    def fly(self):\n",
    "        print(\"Penguins can't fly, they swim instead.\")\n",
    "\n",
    "# Function demonstrating polymorphism\n",
    "def bird_flight(bird):\n",
    "    bird.fly()\n",
    "\n",
    "# Create objects\n",
    "sparrow = Sparrow()\n",
    "penguin = Penguin()\n",
    "\n",
    "# Call fly() using base class reference\n",
    "bird_flight(sparrow)  \n",
    "bird_flight(penguin)  \n"
   ]
  },
  {
   "cell_type": "markdown",
   "id": "012da6a6-f94e-4057-b8c0-804b16c43752",
   "metadata": {},
   "source": [
    "### 5. Write a program to demonstrate encapsulation by creating a class BankAccount with private attributes balance and methods to deposit, withdraw, and check balance."
   ]
  },
  {
   "cell_type": "code",
   "execution_count": 9,
   "id": "02185992-4510-4fc9-af33-eba114992246",
   "metadata": {},
   "outputs": [
    {
     "name": "stdout",
     "output_type": "stream",
     "text": [
      "Deposited ₹500. New balance: ₹1500\n",
      "Withdrew ₹300. Remaining balance: ₹1200\n",
      "Account balance for Shekhar: ₹1200\n",
      "1200\n"
     ]
    }
   ],
   "source": [
    "class BankAccount:\n",
    "    def __init__(self, owner, initial_balance=0):\n",
    "        self.owner = owner\n",
    "        self.__balance = initial_balance  # Private attribute\n",
    "\n",
    "    # Public method to deposit money\n",
    "    def deposit(self, amount):\n",
    "        if amount > 0:\n",
    "            self.__balance += amount\n",
    "            print(f\"Deposited ₹{amount}. New balance: ₹{self.__balance}\")\n",
    "        else:\n",
    "            print(\"Invalid deposit amount.\")\n",
    "\n",
    "    # Public method to withdraw money\n",
    "    def withdraw(self, amount):\n",
    "        if 0 < amount <= self.__balance:\n",
    "            self.__balance -= amount\n",
    "            print(f\"Withdrew ₹{amount}. Remaining balance: ₹{self.__balance}\")\n",
    "        else:\n",
    "            print(\"Invalid or insufficient funds.\")\n",
    "\n",
    "    # Public method to check balance\n",
    "    def get_balance(self):\n",
    "        print(f\"Account balance for {self.owner}: ₹{self.__balance}\")\n",
    "        return self.__balance\n",
    "\n",
    "# Testing the class\n",
    "account = BankAccount(\"Shekhar\", 1000)\n",
    "\n",
    "account.deposit(500)       \n",
    "account.withdraw(300)       \n",
    "account.get_balance()       \n",
    "\n",
    "print(account._BankAccount__balance)  "
   ]
  },
  {
   "cell_type": "markdown",
   "id": "f17a81de-3a92-40da-9b55-bb0923338f48",
   "metadata": {},
   "source": [
    "### 6. Demonstrate runtime polymorphism using a method play() in a base class Instrument. Derive classes Guitar and Piano that implement their own version of play()."
   ]
  },
  {
   "cell_type": "code",
   "execution_count": 11,
   "id": "ab759cdc-14ae-464c-a972-5bd2dc85e3d8",
   "metadata": {},
   "outputs": [
    {
     "name": "stdout",
     "output_type": "stream",
     "text": [
      "Strumming the guitar \n",
      "Playing the piano \n"
     ]
    }
   ],
   "source": [
    "# Base class\n",
    "class Instrument:\n",
    "    def play(self):\n",
    "        print(\"Playing some generic instrument...\")\n",
    "\n",
    "# Derived class: Guitar\n",
    "class Guitar(Instrument):\n",
    "    def play(self):\n",
    "        print(\"Strumming the guitar \")\n",
    "\n",
    "# Derived class: Piano\n",
    "class Piano(Instrument):\n",
    "    def play(self):\n",
    "        print(\"Playing the piano \")\n",
    "\n",
    "# Function demonstrating polymorphism\n",
    "def perform(instrument):\n",
    "    instrument.play()\n",
    "\n",
    "# Create objects\n",
    "guitar = Guitar()\n",
    "piano = Piano()\n",
    "\n",
    "perform(guitar) \n",
    "perform(piano)   \n"
   ]
  },
  {
   "cell_type": "markdown",
   "id": "71061c82-e746-4307-9f96-82a8417c7420",
   "metadata": {},
   "source": [
    "### 7. Create a class MathOperations with a class method add_numbers() to add two numbers and a static method subtract_numbers() to subtract two numbers."
   ]
  },
  {
   "cell_type": "code",
   "execution_count": 12,
   "id": "53a75221-718f-483b-ad73-3e2246e48654",
   "metadata": {},
   "outputs": [
    {
     "name": "stdout",
     "output_type": "stream",
     "text": [
      "Addition: 15\n",
      "Subtraction: 5\n"
     ]
    }
   ],
   "source": [
    "class MathOperations:\n",
    "    @classmethod\n",
    "    def add_numbers(cls, a, b):\n",
    "        return a + b\n",
    "\n",
    "    @staticmethod\n",
    "    def subtract_numbers(a, b):\n",
    "        return a - b\n",
    "\n",
    "\n",
    "print(\"Addition:\", MathOperations.add_numbers(10, 5))    \n",
    "print(\"Subtraction:\", MathOperations.subtract_numbers(10, 5))  \n"
   ]
  },
  {
   "cell_type": "markdown",
   "id": "739066fe-7536-48f4-8973-5f67e029a826",
   "metadata": {},
   "source": [
    "8. Implement a class Person with a class method to count the total number of persons created."
   ]
  },
  {
   "cell_type": "code",
   "execution_count": 13,
   "id": "129e04da-faa4-4995-b28e-650464864a9c",
   "metadata": {},
   "outputs": [
    {
     "name": "stdout",
     "output_type": "stream",
     "text": [
      "Total persons created: 3\n"
     ]
    }
   ],
   "source": [
    "class Person:\n",
    "    # Class variable to count persons\n",
    "    person_count = 0\n",
    "\n",
    "    def __init__(self, name):\n",
    "        self.name = name\n",
    "        Person.person_count += 1  # Increment on each new object\n",
    "\n",
    "    @classmethod\n",
    "    def get_person_count(cls):\n",
    "        return cls.person_count\n",
    "\n",
    "p1 = Person(\"Alice\")\n",
    "p2 = Person(\"Bob\")\n",
    "p3 = Person(\"Shekhar\")\n",
    "\n",
    "print(\"Total persons created:\", Person.get_person_count())  \n"
   ]
  },
  {
   "cell_type": "markdown",
   "id": "9faeba02-577f-4b18-b775-d3137637ef67",
   "metadata": {},
   "source": [
    "### 9. Write a class Fraction with attributes numerator and denominator. Override the str method to display the fraction as \"numerator/denominator\"."
   ]
  },
  {
   "cell_type": "code",
   "execution_count": 14,
   "id": "df424d26-3331-4dbd-a1ae-ebc2523c1bb3",
   "metadata": {},
   "outputs": [
    {
     "name": "stdout",
     "output_type": "stream",
     "text": [
      "3/4\n",
      "7/2\n"
     ]
    }
   ],
   "source": [
    "class Fraction:\n",
    "    def __init__(self, numerator, denominator):\n",
    "        self.numerator = numerator\n",
    "        self.denominator = denominator\n",
    "\n",
    "    def __str__(self):\n",
    "        return f\"{self.numerator}/{self.denominator}\"\n",
    "\n",
    "# Create and print Fraction objects\n",
    "f1 = Fraction(3, 4)\n",
    "f2 = Fraction(7, 2)\n",
    "\n",
    "print(f1) \n",
    "print(f2)  \n"
   ]
  },
  {
   "cell_type": "markdown",
   "id": "fea3abb9-3dbd-4032-8cac-dbd08c4a7a0b",
   "metadata": {},
   "source": [
    "### 10. Demonstrate operator overloading by creating a class Vector and overriding the add method to add two vectors."
   ]
  },
  {
   "cell_type": "code",
   "execution_count": 15,
   "id": "454f5542-092c-458f-8cd3-3366181fbb01",
   "metadata": {},
   "outputs": [
    {
     "name": "stdout",
     "output_type": "stream",
     "text": [
      "Vector(6, 8)\n"
     ]
    }
   ],
   "source": [
    "class Vector:\n",
    "    def __init__(self, x, y):\n",
    "        self.x = x\n",
    "        self.y = y\n",
    "\n",
    "    # Overload the + operator\n",
    "    def __add__(self, other):\n",
    "        return Vector(self.x + other.x, self.y + other.y)\n",
    "\n",
    "    def __str__(self):\n",
    "        return f\"Vector({self.x}, {self.y})\"\n",
    "\n",
    "v1 = Vector(2, 3)\n",
    "v2 = Vector(4, 5)\n",
    "\n",
    "result = v1 + v2\n",
    "\n",
    "print(result) "
   ]
  },
  {
   "cell_type": "markdown",
   "id": "d7ff69ed-64bf-4738-828a-6cbafcb5ccf8",
   "metadata": {},
   "source": [
    "### 11. Create a class Person with attributes name and age. Add a method greet() that prints \"Hello, my name is {name} and I am {age} years old.\""
   ]
  },
  {
   "cell_type": "code",
   "execution_count": 17,
   "id": "b924b356-b6a5-4cfa-a56d-1eabc567b1c5",
   "metadata": {},
   "outputs": [
    {
     "name": "stdout",
     "output_type": "stream",
     "text": [
      "Hello, my name is Shekhar and I am 25 years old.\n"
     ]
    }
   ],
   "source": [
    "class Person:\n",
    "    def __init__(self, name, age):\n",
    "        self.name = name\n",
    "        self.age = age\n",
    "\n",
    "    def greet(self):\n",
    "        print(f\"Hello, my name is {self.name} and I am {self.age} years old.\")\n",
    "\n",
    "p1 = Person(\"Shekhar\", 25)\n",
    "p1.greet() \n"
   ]
  },
  {
   "cell_type": "markdown",
   "id": "845f7d8e-2a17-4861-8275-abcdc0585a2c",
   "metadata": {},
   "source": [
    "### 12. Implement a class Student with attributes name and grades. Create a method average_grade() to compute the average of the grades."
   ]
  },
  {
   "cell_type": "code",
   "execution_count": 18,
   "id": "de5262ee-fd1b-422b-8622-05fc2836f679",
   "metadata": {},
   "outputs": [
    {
     "name": "stdout",
     "output_type": "stream",
     "text": [
      "Shekhar's average grade is: 86.60\n"
     ]
    }
   ],
   "source": [
    "class Student:\n",
    "    def __init__(self, name, grades):\n",
    "        self.name = name\n",
    "        self.grades = grades  # Should be a list of numbers\n",
    "\n",
    "    def average_grade(self):\n",
    "        if not self.grades:\n",
    "            return 0\n",
    "        return sum(self.grades) / len(self.grades)\n",
    "\n",
    "s1 = Student(\"Shekhar\", [85, 90, 78, 92, 88])\n",
    "\n",
    "print(f\"{s1.name}'s average grade is: {s1.average_grade():.2f}\")\n"
   ]
  },
  {
   "cell_type": "markdown",
   "id": "e3401e17-3b76-4a99-acab-a87f7d4eaa56",
   "metadata": {},
   "source": [
    "### 13. Create a class Rectangle with methods set_dimensions() to set the dimensions and area() to calculate the area."
   ]
  },
  {
   "cell_type": "code",
   "execution_count": 19,
   "id": "a8821377-9ca4-479b-bd96-beb3e4e16f08",
   "metadata": {},
   "outputs": [
    {
     "name": "stdout",
     "output_type": "stream",
     "text": [
      "Area of rectangle: 50\n"
     ]
    }
   ],
   "source": [
    "class Rectangle:\n",
    "    def __init__(self):\n",
    "        self.length = 0\n",
    "        self.width = 0\n",
    "\n",
    "    def set_dimensions(self, length, width):\n",
    "        self.length = length\n",
    "        self.width = width\n",
    "\n",
    "    def area(self):\n",
    "        return self.length * self.width\n",
    "\n",
    "rect = Rectangle()\n",
    "rect.set_dimensions(5, 10)\n",
    "print(\"Area of rectangle:\", rect.area())\n"
   ]
  },
  {
   "cell_type": "markdown",
   "id": "6c6e15b3-f17e-41b8-94f8-814f476fc3ea",
   "metadata": {},
   "source": [
    "### 14. Create a class Employee with a method calculate_salary() that computes the salary based on hours worked and hourly rate. Create a derived class Manager that adds a bonus to the salary"
   ]
  },
  {
   "cell_type": "code",
   "execution_count": 20,
   "id": "078e8901-588e-4eea-8cdb-7a1200d93cab",
   "metadata": {},
   "outputs": [
    {
     "name": "stdout",
     "output_type": "stream",
     "text": [
      "Ravi's Salary: ₹12000\n",
      "Priya's Salary (with bonus): ₹17000\n"
     ]
    }
   ],
   "source": [
    "# Base class\n",
    "class Employee:\n",
    "    def __init__(self, name, hours_worked, hourly_rate):\n",
    "        self.name = name\n",
    "        self.hours_worked = hours_worked\n",
    "        self.hourly_rate = hourly_rate\n",
    "\n",
    "    def calculate_salary(self):\n",
    "        return self.hours_worked * self.hourly_rate\n",
    "\n",
    "# Derived class\n",
    "class Manager(Employee):\n",
    "    def __init__(self, name, hours_worked, hourly_rate, bonus):\n",
    "        super().__init__(name, hours_worked, hourly_rate)\n",
    "        self.bonus = bonus\n",
    "\n",
    "    def calculate_salary(self):\n",
    "        base_salary = super().calculate_salary()\n",
    "        return base_salary + self.bonus\n",
    "\n",
    "emp = Employee(\"Ravi\", 40, 300)\n",
    "mgr = Manager(\"Priya\", 40, 300, 5000)\n",
    "\n",
    "print(f\"{emp.name}'s Salary: ₹{emp.calculate_salary()}\")    \n",
    "print(f\"{mgr.name}'s Salary (with bonus): ₹{mgr.calculate_salary()}\") \n"
   ]
  },
  {
   "cell_type": "markdown",
   "id": "0fd47658-1c32-49ad-a6e3-66fa16ef4aea",
   "metadata": {},
   "source": [
    "### 15. Create a class Product with attributes name, price, and quantity. Implement a method total_price() that calculates the total price of the product."
   ]
  },
  {
   "cell_type": "code",
   "execution_count": 21,
   "id": "4064625c-d65e-4db8-b4c8-5978066bded1",
   "metadata": {},
   "outputs": [
    {
     "name": "stdout",
     "output_type": "stream",
     "text": [
      "Total price of Laptops: ₹100000\n",
      "Total price of Phones: ₹60000\n"
     ]
    }
   ],
   "source": [
    "class Product:\n",
    "    def __init__(self, name, price, quantity):\n",
    "        self.name = name\n",
    "        self.price = price\n",
    "        self.quantity = quantity\n",
    "\n",
    "    def total_price(self):\n",
    "        return self.price * self.quantity\n",
    "\n",
    "# Create and test product object\n",
    "p1 = Product(\"Laptop\", 50000, 2)\n",
    "p2 = Product(\"Phone\", 20000, 3)\n",
    "\n",
    "print(f\"Total price of {p1.name}s: ₹{p1.total_price()}\")  \n",
    "print(f\"Total price of {p2.name}s: ₹{p2.total_price()}\")  \n"
   ]
  },
  {
   "cell_type": "markdown",
   "id": "1414d0cb-ee41-4fce-9adc-0cc0f24048b9",
   "metadata": {},
   "source": [
    "### 16. Create a class Animal with an abstract method sound(). Create two derived classes Cow and Sheep that implement the sound() method."
   ]
  },
  {
   "cell_type": "code",
   "execution_count": 22,
   "id": "46d97ddf-a941-4311-adc9-a3adabc000e8",
   "metadata": {},
   "outputs": [
    {
     "name": "stdout",
     "output_type": "stream",
     "text": [
      "Cow says: Moo\n",
      "Sheep says: Baa\n"
     ]
    }
   ],
   "source": [
    "from abc import ABC, abstractmethod\n",
    "\n",
    "# Abstract base class\n",
    "class Animal(ABC):\n",
    "    @abstractmethod\n",
    "    def sound(self):\n",
    "        pass\n",
    "\n",
    "# Derived class: Cow\n",
    "class Cow(Animal):\n",
    "    def sound(self):\n",
    "        return \"Moo\"\n",
    "\n",
    "# Derived class: Sheep\n",
    "class Sheep(Animal):\n",
    "    def sound(self):\n",
    "        return \"Baa\"\n",
    "\n",
    "# Create and test objects\n",
    "cow = Cow()\n",
    "sheep = Sheep()\n",
    "\n",
    "print(\"Cow says:\", cow.sound())  \n",
    "print(\"Sheep says:\", sheep.sound())\n"
   ]
  },
  {
   "cell_type": "markdown",
   "id": "87740f4c-0ac7-4b81-a8f4-6a3167ab8f32",
   "metadata": {},
   "source": [
    "### 17. Create a class Book with attributes title, author, and year_published. Add a method get_book_info() that returns a formatted string with the book's details."
   ]
  },
  {
   "cell_type": "code",
   "execution_count": 23,
   "id": "b1a59ed7-300f-4bc8-b4f6-8a580a387c3d",
   "metadata": {},
   "outputs": [
    {
     "name": "stdout",
     "output_type": "stream",
     "text": [
      "'To Kill a Mockingbird' by Harper Lee, published in 1960\n",
      "'The Alchemist' by Paulo Coelho, published in 1988\n"
     ]
    }
   ],
   "source": [
    "class Book:\n",
    "    def __init__(self, title, author, year_published):\n",
    "        self.title = title\n",
    "        self.author = author\n",
    "        self.year_published = year_published\n",
    "\n",
    "    def get_book_info(self):\n",
    "        return f\"'{self.title}' by {self.author}, published in {self.year_published}\"\n",
    "\n",
    "# Create and test a Book object\n",
    "book1 = Book(\"To Kill a Mockingbird\", \"Harper Lee\", 1960)\n",
    "book2 = Book(\"The Alchemist\", \"Paulo Coelho\", 1988)\n",
    "\n",
    "print(book1.get_book_info())  \n",
    "print(book2.get_book_info())  \n"
   ]
  },
  {
   "cell_type": "code",
   "execution_count": null,
   "id": "2ddd575f-0e8c-44e7-8d21-4b78b35bc169",
   "metadata": {},
   "outputs": [],
   "source": [
    "### 18. Create a class House with attributes address and price. Create a derived class Mansion that adds an\n",
    "attribute number_of_rooms."
   ]
  }
 ],
 "metadata": {
  "kernelspec": {
   "display_name": "Python 3 (ipykernel)",
   "language": "python",
   "name": "python3"
  },
  "language_info": {
   "codemirror_mode": {
    "name": "ipython",
    "version": 3
   },
   "file_extension": ".py",
   "mimetype": "text/x-python",
   "name": "python",
   "nbconvert_exporter": "python",
   "pygments_lexer": "ipython3",
   "version": "3.12.4"
  }
 },
 "nbformat": 4,
 "nbformat_minor": 5
}
